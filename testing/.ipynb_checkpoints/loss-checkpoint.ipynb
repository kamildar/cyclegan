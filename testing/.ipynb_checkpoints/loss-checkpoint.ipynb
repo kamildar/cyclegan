{
 "cells": [
  {
   "cell_type": "code",
   "execution_count": 1,
   "metadata": {},
   "outputs": [],
   "source": [
    "import sys\n",
    "sys.path.append(\"../\")"
   ]
  },
  {
   "cell_type": "code",
   "execution_count": 2,
   "metadata": {},
   "outputs": [],
   "source": [
    "from loss import compute_loss\n",
    "import networks as net\n",
    "from data_sampler import data_sampler\n",
    "\n",
    "import functools\n",
    "import numpy as np\n",
    "import pandas as pd\n",
    "\n",
    "import torch\n",
    "import torch.nn as nn\n",
    "from torch.autograd import Variable\n",
    "import torch.nn.functional as F"
   ]
  },
  {
   "cell_type": "code",
   "execution_count": 3,
   "metadata": {},
   "outputs": [],
   "source": [
    "train_pull = pd.read_csv(\"../../../data/fashion_mnisit/train_pull.csv\", header=None).values\n",
    "train_top = pd.read_csv(\"../../../data/fashion_mnisit/train_top.csv\", header=None).values\n",
    "# test_pull = pd.read_csv(\"../../data/fashion_mnisit/test_pull.csv\", header=None).values\n",
    "# test_top = pd.read_csv(\"../../data/fashion_mnisit/test_top.csv\", header=None).values"
   ]
  },
  {
   "cell_type": "code",
   "execution_count": 4,
   "metadata": {},
   "outputs": [],
   "source": [
    "input_nc = 1\n",
    "output_nc = 1\n",
    "discr_filters = 8\n",
    "max_power = 8\n",
    "n_layers = 3\n",
    "norm_lay = nn.BatchNorm2d\n",
    "start_size = 28\n",
    "gen_filters = 16\n",
    "dropout = None\n",
    "n_blocks = 1"
   ]
  },
  {
   "cell_type": "code",
   "execution_count": 5,
   "metadata": {},
   "outputs": [],
   "source": [
    "discr_a = net.Discrimanator(input_nc=input_nc,\n",
    "                  discr_filters=discr_filters,\n",
    "                  max_power=max_power,\n",
    "                  n_layers=n_layers,\n",
    "                  norm_lay=norm_lay,\n",
    "                  start_size=28)\n",
    "\n",
    "discr_b = net.Discrimanator(input_nc=input_nc,\n",
    "                  discr_filters=discr_filters,\n",
    "                  max_power=max_power,\n",
    "                  n_layers=n_layers,\n",
    "                  norm_lay=norm_lay,\n",
    "                  start_size=28)\n",
    "\n",
    "gener_a = net.ResnetGenerator(\n",
    "    input_nc = input_nc,\n",
    "    output_nc = output_nc,\n",
    "    gen_filters = gen_filters,\n",
    "    norm_lay = norm_lay,\n",
    "    dropout = dropout,\n",
    "    n_blocks = n_blocks\n",
    ")\n",
    "\n",
    "gener_b = net.ResnetGenerator(\n",
    "    input_nc = input_nc,\n",
    "    output_nc = output_nc,\n",
    "    gen_filters = gen_filters,\n",
    "    norm_lay = norm_lay,\n",
    "    dropout = dropout,\n",
    "    n_blocks = n_blocks\n",
    ")"
   ]
  },
  {
   "cell_type": "code",
   "execution_count": 15,
   "metadata": {},
   "outputs": [],
   "source": [
    "batch_a, batch_b = data_sampler(10, train_pull, train_top)\n",
    "batch_a = batch_a.view(-1, 1, 28, 28).float()\n",
    "batch_b = batch_b.view(-1, 1, 28, 28).float()"
   ]
  },
  {
   "cell_type": "code",
   "execution_count": 16,
   "metadata": {},
   "outputs": [
    {
     "ename": "RuntimeError",
     "evalue": "input and target have different number of elements: input[10 x 1] has 10 elements, while target[1] has 1 elements at /Users/soumith/minicondabuild3/conda-bld/pytorch_1512381214802/work/torch/lib/THNN/generic/MSECriterion.c:13",
     "output_type": "error",
     "traceback": [
      "\u001b[0;31m---------------------------------------------------------------------------\u001b[0m",
      "\u001b[0;31mRuntimeError\u001b[0m                              Traceback (most recent call last)",
      "\u001b[0;32m<ipython-input-16-d325f96b7f5c>\u001b[0m in \u001b[0;36m<module>\u001b[0;34m()\u001b[0m\n\u001b[1;32m      6\u001b[0m     \u001b[0mbatch_a\u001b[0m \u001b[0;34m=\u001b[0m \u001b[0mbatch_a\u001b[0m\u001b[0;34m,\u001b[0m\u001b[0;34m\u001b[0m\u001b[0m\n\u001b[1;32m      7\u001b[0m     \u001b[0mbatch_b\u001b[0m \u001b[0;34m=\u001b[0m \u001b[0mbatch_b\u001b[0m\u001b[0;34m,\u001b[0m\u001b[0;34m\u001b[0m\u001b[0m\n\u001b[0;32m----> 8\u001b[0;31m     \u001b[0malpha\u001b[0m \u001b[0;34m=\u001b[0m \u001b[0;36m10\u001b[0m\u001b[0;34m\u001b[0m\u001b[0m\n\u001b[0m\u001b[1;32m      9\u001b[0m )\n",
      "\u001b[0;32m~/Documents/HSE/dl/proj_1/gan_try/cyclegan/testing/loss.py\u001b[0m in \u001b[0;36mcompute_loss\u001b[0;34m(gener_a, gener_b, discr_a, discr_b, batch_a, batch_b, alpha)\u001b[0m\n\u001b[1;32m     36\u001b[0m \u001b[0;34m\u001b[0m\u001b[0m\n\u001b[1;32m     37\u001b[0m     \u001b[0;31m# parts of discrimentators loss\u001b[0m\u001b[0;34m\u001b[0m\u001b[0;34m\u001b[0m\u001b[0m\n\u001b[0;32m---> 38\u001b[0;31m     \u001b[0mdiscr_a_rly_loss\u001b[0m \u001b[0;34m=\u001b[0m \u001b[0mF\u001b[0m\u001b[0;34m.\u001b[0m\u001b[0mmse_loss\u001b[0m\u001b[0;34m(\u001b[0m\u001b[0mdiscr_a_onrly\u001b[0m\u001b[0;34m,\u001b[0m \u001b[0mvar_1\u001b[0m\u001b[0;34m)\u001b[0m\u001b[0;34m\u001b[0m\u001b[0m\n\u001b[0m\u001b[1;32m     39\u001b[0m     \u001b[0mdiscr_b_rly_loss\u001b[0m \u001b[0;34m=\u001b[0m \u001b[0mF\u001b[0m\u001b[0;34m.\u001b[0m\u001b[0mmse_loss\u001b[0m\u001b[0;34m(\u001b[0m\u001b[0mdiscr_b_onrly\u001b[0m\u001b[0;34m,\u001b[0m \u001b[0mvar_1\u001b[0m\u001b[0;34m)\u001b[0m\u001b[0;34m\u001b[0m\u001b[0m\n\u001b[1;32m     40\u001b[0m \u001b[0;34m\u001b[0m\u001b[0m\n",
      "\u001b[0;31mRuntimeError\u001b[0m: input and target have different number of elements: input[10 x 1] has 10 elements, while target[1] has 1 elements at /Users/soumith/minicondabuild3/conda-bld/pytorch_1512381214802/work/torch/lib/THNN/generic/MSECriterion.c:13"
     ]
    }
   ],
   "source": [
    "compute_loss(\n",
    "    gener_a = gener_a,\n",
    "    gener_b = gener_b,\n",
    "    discr_a = discr_a,\n",
    "    discr_b = discr_b,\n",
    "    batch_a = batch_a,\n",
    "    batch_b = batch_b,\n",
    "    alpha = 10\n",
    ")"
   ]
  },
  {
   "cell_type": "code",
   "execution_count": 17,
   "metadata": {},
   "outputs": [],
   "source": [
    "discr_a_onrly = discr_a(batch_a)\n",
    "discr_b_onrly = discr_b(batch_b)\n",
    "\n",
    "fake_a = gener_a(batch_b)\n",
    "fake_b = gener_b(batch_a)\n",
    "\n",
    "discr_a_onfke = discr_a(fake_a)\n",
    "discr_b_onfke = discr_b(fake_b)\n",
    "\n",
    "cyclic_a = gener_a(fake_b)\n",
    "cyclic_b = gener_a(fake_a)"
   ]
  },
  {
   "cell_type": "code",
   "execution_count": null,
   "metadata": {},
   "outputs": [],
   "source": []
  }
 ],
 "metadata": {
  "kernelspec": {
   "display_name": "Python 3",
   "language": "python",
   "name": "python3"
  },
  "language_info": {
   "codemirror_mode": {
    "name": "ipython",
    "version": 3
   },
   "file_extension": ".py",
   "mimetype": "text/x-python",
   "name": "python",
   "nbconvert_exporter": "python",
   "pygments_lexer": "ipython3",
   "version": "3.6.4"
  }
 },
 "nbformat": 4,
 "nbformat_minor": 2
}
