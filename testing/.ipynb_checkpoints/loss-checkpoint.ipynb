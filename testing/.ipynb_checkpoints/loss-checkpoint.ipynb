{
 "cells": [
  {
   "cell_type": "code",
   "execution_count": 1,
   "metadata": {},
   "outputs": [],
   "source": [
    "import sys\n",
    "sys.path.append(\"../\")"
   ]
  },
  {
   "cell_type": "code",
   "execution_count": 2,
   "metadata": {},
   "outputs": [],
   "source": [
    "from loss import compute_loss\n",
    "import networks as net\n",
    "from data_sampler import data_sampler\n",
    "\n",
    "import functools\n",
    "import numpy as np\n",
    "import pandas as pd\n",
    "\n",
    "import torch\n",
    "import torch.nn as nn\n",
    "from torch.autograd import Variable\n",
    "import torch.nn.functional as F"
   ]
  },
  {
   "cell_type": "code",
   "execution_count": 3,
   "metadata": {},
   "outputs": [],
   "source": [
    "train_pull = pd.read_csv(\"../../../data/fashion_mnisit/train_pull.csv\", header=None).values\n",
    "train_top = pd.read_csv(\"../../../data/fashion_mnisit/train_top.csv\", header=None).values\n",
    "# test_pull = pd.read_csv(\"../../data/fashion_mnisit/test_pull.csv\", header=None).values\n",
    "# test_top = pd.read_csv(\"../../data/fashion_mnisit/test_top.csv\", header=None).values"
   ]
  },
  {
   "cell_type": "code",
   "execution_count": 4,
   "metadata": {},
   "outputs": [],
   "source": [
    "input_nc = 1\n",
    "output_nc = 1\n",
    "discr_filters = 8\n",
    "max_power = 8\n",
    "n_layers = 3\n",
    "norm_lay = nn.BatchNorm2d\n",
    "start_size = 28\n",
    "gen_filters = 16\n",
    "dropout = None\n",
    "n_blocks = 1"
   ]
  },
  {
   "cell_type": "code",
   "execution_count": 5,
   "metadata": {},
   "outputs": [],
   "source": [
    "discr_a = net.Discrimanator(input_nc=input_nc,\n",
    "                  discr_filters=discr_filters,\n",
    "                  max_power=max_power,\n",
    "                  n_layers=n_layers,\n",
    "                  norm_lay=norm_lay,\n",
    "                  start_size=start_size)\n",
    "\n",
    "discr_b = net.Discrimanator(input_nc=input_nc,\n",
    "                  discr_filters=discr_filters,\n",
    "                  max_power=max_power,\n",
    "                  n_layers=n_layers,\n",
    "                  norm_lay=norm_lay,\n",
    "                  start_size=start_size)\n",
    "\n",
    "gener_a = net.ResnetGenerator(\n",
    "    input_nc = input_nc,\n",
    "    output_nc = output_nc,\n",
    "    gen_filters = gen_filters,\n",
    "    norm_lay = norm_lay,\n",
    "    dropout = dropout,\n",
    "    n_blocks = n_blocks\n",
    ")\n",
    "\n",
    "gener_b = net.ResnetGenerator(\n",
    "    input_nc = input_nc,\n",
    "    output_nc = output_nc,\n",
    "    gen_filters = gen_filters,\n",
    "    norm_lay = norm_lay,\n",
    "    dropout = dropout,\n",
    "    n_blocks = n_blocks\n",
    ")"
   ]
  },
  {
   "cell_type": "code",
   "execution_count": 6,
   "metadata": {},
   "outputs": [],
   "source": [
    "batch_a, batch_b = data_sampler(10, train_pull, train_top)\n",
    "batch_a = batch_a.view(-1, 1, 28, 28).float()\n",
    "batch_b = batch_b.view(-1, 1, 28, 28).float()"
   ]
  },
  {
   "cell_type": "code",
   "execution_count": 7,
   "metadata": {},
   "outputs": [
    {
     "data": {
      "text/plain": [
       "(Variable containing:\n",
       "  0.5086\n",
       " [torch.FloatTensor of size 1], Variable containing:\n",
       "  0.5163\n",
       " [torch.FloatTensor of size 1], Variable containing:\n",
       "  1011.5992\n",
       " [torch.FloatTensor of size 1], Variable containing:\n",
       "  967.2508\n",
       " [torch.FloatTensor of size 1])"
      ]
     },
     "execution_count": 7,
     "metadata": {},
     "output_type": "execute_result"
    }
   ],
   "source": [
    "compute_loss(\n",
    "    gener_a = gener_a,\n",
    "    gener_b = gener_b,\n",
    "    discr_a = discr_a,\n",
    "    discr_b = discr_b,\n",
    "    batch_a = batch_a,\n",
    "    batch_b = batch_b,\n",
    "    alpha = 10\n",
    ")"
   ]
  },
  {
   "cell_type": "code",
   "execution_count": null,
   "metadata": {},
   "outputs": [],
   "source": []
  }
 ],
 "metadata": {
  "kernelspec": {
   "display_name": "Python 3",
   "language": "python",
   "name": "python3"
  },
  "language_info": {
   "codemirror_mode": {
    "name": "ipython",
    "version": 3
   },
   "file_extension": ".py",
   "mimetype": "text/x-python",
   "name": "python",
   "nbconvert_exporter": "python",
   "pygments_lexer": "ipython3",
   "version": "3.6.4"
  }
 },
 "nbformat": 4,
 "nbformat_minor": 2
}
