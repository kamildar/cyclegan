{
 "cells": [
  {
   "cell_type": "code",
   "execution_count": 1,
   "metadata": {},
   "outputs": [],
   "source": [
    "import sys\n",
    "sys.path.append(\"../\")"
   ]
  },
  {
   "cell_type": "code",
   "execution_count": 36,
   "metadata": {},
   "outputs": [],
   "source": [
    "import torch\n",
    "import torch.nn as nn\n",
    "import torch.nn.functional as F\n",
    "from torch.autograd import Variable\n",
    "import pandas as pd\n",
    "from data_sampler import data_sampler\n",
    "from data_sampler import SequentialSampler, BatchSampler\n",
    "import networks as net\n",
    "import numpy as np"
   ]
  },
  {
   "cell_type": "code",
   "execution_count": 3,
   "metadata": {},
   "outputs": [],
   "source": [
    "from inception_model import InceptionSham"
   ]
  },
  {
   "cell_type": "code",
   "execution_count": 4,
   "metadata": {},
   "outputs": [],
   "source": [
    "input_nc = 1\n",
    "output_nc = 1\n",
    "discr_filters = 8\n",
    "max_power = 8\n",
    "n_layers = 2\n",
    "norm_lay = nn.BatchNorm2d\n",
    "start_size = 28\n",
    "gen_filters = 8\n",
    "dropout = 0.5\n",
    "n_blocks = 2\n",
    "batch_size = 5\n",
    "alpha = 10"
   ]
  },
  {
   "cell_type": "code",
   "execution_count": 5,
   "metadata": {},
   "outputs": [],
   "source": [
    "gener_a = net.ResnetGenerator(\n",
    "    input_nc = input_nc,\n",
    "    output_nc = output_nc,\n",
    "    gen_filters = gen_filters,\n",
    "    norm_lay = norm_lay,\n",
    "    dropout = dropout,\n",
    "    n_blocks = n_blocks\n",
    ")\n",
    "\n",
    "gener_b = net.ResnetGenerator(\n",
    "    input_nc = input_nc,\n",
    "    output_nc = output_nc,\n",
    "    gen_filters = gen_filters,\n",
    "    norm_lay = norm_lay,\n",
    "    dropout = dropout,\n",
    "    n_blocks = n_blocks\n",
    ")\n",
    "\n",
    "gener_a_state = torch.load('gener_a_tmp.pth', map_location='cpu')\n",
    "gener_a.load_state_dict(gener_a_state)\n",
    "\n",
    "gener_b_state = torch.load('gener_b_tmp.pth', map_location='cpu')\n",
    "gener_b.load_state_dict(gener_b_state)"
   ]
  },
  {
   "cell_type": "code",
   "execution_count": 6,
   "metadata": {},
   "outputs": [],
   "source": [
    "inception_model = InceptionSham(num_classes=10, input_nc=1, dropout=0.5)\n",
    "inception_state = torch.load(\"../../../inception_sham_state.pth\", map_location=\"cpu\")\n",
    "inception_model.load_state_dict(inception_state)"
   ]
  },
  {
   "cell_type": "code",
   "execution_count": 7,
   "metadata": {},
   "outputs": [],
   "source": [
    "test_pull = pd.read_csv(\"../../../data/fashion_mnisit/test_pull.csv\", header=None).values\n",
    "test_top = pd.read_csv(\"../../../data/fashion_mnisit/test_top.csv\", header=None).values"
   ]
  },
  {
   "cell_type": "code",
   "execution_count": 64,
   "metadata": {},
   "outputs": [],
   "source": [
    "kek = inception_model(gener_a(data_sampler(1, test_pull, test_top)[0].view(-1, 1, 28, 28)))"
   ]
  },
  {
   "cell_type": "code",
   "execution_count": 85,
   "metadata": {},
   "outputs": [],
   "source": [
    "kek = F.softmax(kek, dim=1)"
   ]
  },
  {
   "cell_type": "code",
   "execution_count": 86,
   "metadata": {},
   "outputs": [],
   "source": [
    "lel = F.softmax(lel, dim=1)"
   ]
  },
  {
   "cell_type": "code",
   "execution_count": 87,
   "metadata": {},
   "outputs": [
    {
     "data": {
      "text/plain": [
       "-0.13242989778518677"
      ]
     },
     "execution_count": 87,
     "metadata": {},
     "output_type": "execute_result"
    }
   ],
   "source": [
    "F.kl_div(Variable(kek.data), Variable(lel.data)).data[0]"
   ]
  },
  {
   "cell_type": "code",
   "execution_count": null,
   "metadata": {},
   "outputs": [],
   "source": []
  },
  {
   "cell_type": "code",
   "execution_count": 97,
   "metadata": {},
   "outputs": [],
   "source": [
    "def inception_score(gener_a, gener_b, inception, data_a, data_b, batch_size=10, splits=10):\n",
    "    n_images = min(data_a.shape[0], data_b.shape[0])\n",
    "    \n",
    "    sampler = SequentialSampler(n_images)\n",
    "    batch_sampler = BatchSampler(sampler, batch_size)\n",
    "    \n",
    "    pred_a = None\n",
    "    pred_b = None\n",
    "    \n",
    "    for i in batch_sampler:\n",
    "        batch_a, batch_b = data_sampler(5, data_a[i], data_b[i])\n",
    "    \n",
    "        batch_a = batch_a.view(-1, 1, 28, 28).float()\n",
    "        batch_b = batch_b.view(-1, 1, 28, 28).float()\n",
    "        \n",
    "        if pred_a is None:\n",
    "            pred_a = F.softmax(inception(gener_a(batch_a)), dim=1)\n",
    "            pred_b = F.softmax(inception(gener_b(batch_b)), dim=1)\n",
    "        else:\n",
    "            pred_a = torch.cat((pred_a,\n",
    "                               F.softmax(inception(gener_a(batch_a)), dim=1)),\n",
    "                               dim=0)\n",
    "            pred_b = torch.cat((pred_b,\n",
    "                   F.softmax(inception(gener_b(batch_b)), dim=1)),\n",
    "                   dim=0)\n",
    "\n",
    "    obs_kl_a = []\n",
    "    obs_kl_b = []\n",
    "    \n",
    "    for k in range(splits):\n",
    "        part_a = pred_a[k * (n_images // splits): (k+1) * (n_images // splits), :]\n",
    "        part_b = pred_b[k * (n_images // splits): (k+1) * (n_images // splits), :]\n",
    "        \n",
    "        py_a = torch.mean(pred_a, dim=0)\n",
    "        py_b = torch.mean(pred_b, dim=0)\n",
    "        \n",
    "        scores_a = []\n",
    "        scores_b = []\n",
    "        for row in range(part_a.shape[0]):\n",
    "            pyx_a = part_a[row]\n",
    "            pyx_b = part_b[row]\n",
    "            \n",
    "            scores_a.append(F.kl_div(Variable(pyx_a.data), Variable(py_a.data)).data[0])\n",
    "            scores_b.append(F.kl_div(Variable(pyx_b.data), Variable(py_b.data)).data[0])\n",
    "            \n",
    "        obs_kl_a.append(np.exp(np.mean(scores_a)))\n",
    "        obs_kl_b.append(np.exp(np.mean(scores_b)))\n",
    "\n",
    "    return np.mean(obs_kl_a), np.mean(obs_kl_b)"
   ]
  },
  {
   "cell_type": "code",
   "execution_count": 98,
   "metadata": {},
   "outputs": [
    {
     "data": {
      "text/plain": [
       "(0.79197831842393329, 0.80116869130256951)"
      ]
     },
     "execution_count": 98,
     "metadata": {},
     "output_type": "execute_result"
    }
   ],
   "source": [
    "inception_score(gener_a, gener_b, inception_model, test_pull[:10], test_top[:10], batch_size=5, splits=5)"
   ]
  },
  {
   "cell_type": "code",
   "execution_count": null,
   "metadata": {},
   "outputs": [],
   "source": []
  }
 ],
 "metadata": {
  "kernelspec": {
   "display_name": "Python 3",
   "language": "python",
   "name": "python3"
  },
  "language_info": {
   "codemirror_mode": {
    "name": "ipython",
    "version": 3
   },
   "file_extension": ".py",
   "mimetype": "text/x-python",
   "name": "python",
   "nbconvert_exporter": "python",
   "pygments_lexer": "ipython3",
   "version": "3.6.4"
  }
 },
 "nbformat": 4,
 "nbformat_minor": 2
}
