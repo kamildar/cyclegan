{
 "cells": [
  {
   "cell_type": "code",
   "execution_count": null,
   "metadata": {
    "colab": {
     "autoexec": {
      "startup": false,
      "wait_interval": 0
     },
     "base_uri": "https://localhost:8080/",
     "height": 136,
     "output_extras": [
      {
       "item_id": 5
      }
     ]
    },
    "colab_type": "code",
    "executionInfo": {
     "elapsed": 13550,
     "status": "ok",
     "timestamp": 1520611752619,
     "user": {
      "displayName": "Ильдар Камальдинов",
      "photoUrl": "//lh4.googleusercontent.com/-V561pRqasQg/AAAAAAAAAAI/AAAAAAAAAY8/SBtycgQVgsg/s50-c-k-no/photo.jpg",
      "userId": "112336361359478169776"
     },
     "user_tz": -180
    },
    "id": "gTLMohVk5vEU",
    "outputId": "8753a82e-06cb-4677-9338-b6bf94529000"
   },
   "outputs": [],
   "source": [
    "!apt-get install -y -qq software-properties-common python-software-properties module-init-tools\n",
    "!add-apt-repository -y ppa:alessandro-strada/ppa 2>&1 > /dev/null\n",
    "!apt-get update -qq 2>&1 > /dev/null\n",
    "!apt-get -y install -qq google-drive-ocamlfuse fuse\n",
    "from google.colab import auth\n",
    "auth.authenticate_user()\n",
    "from oauth2client.client import GoogleCredentials\n",
    "creds = GoogleCredentials.get_application_default()\n",
    "import getpass\n",
    "!google-drive-ocamlfuse -headless -id={creds.client_id} -secret={creds.client_secret} < /dev/null 2>&1 | grep URL\n",
    "vcode = getpass.getpass()\n",
    "!echo {vcode} | google-drive-ocamlfuse -headless -id={creds.client_id} -secret={creds.client_secret}"
   ]
  },
  {
   "cell_type": "code",
   "execution_count": null,
   "metadata": {
    "colab": {
     "autoexec": {
      "startup": false,
      "wait_interval": 0
     },
     "base_uri": "https://localhost:8080/",
     "height": 51,
     "output_extras": [
      {
       "item_id": 1
      }
     ]
    },
    "colab_type": "code",
    "executionInfo": {
     "elapsed": 1843,
     "status": "ok",
     "timestamp": 1520611754490,
     "user": {
      "displayName": "Ильдар Камальдинов",
      "photoUrl": "//lh4.googleusercontent.com/-V561pRqasQg/AAAAAAAAAAI/AAAAAAAAAY8/SBtycgQVgsg/s50-c-k-no/photo.jpg",
      "userId": "112336361359478169776"
     },
     "user_tz": -180
    },
    "id": "oO4PuyBm51A_",
    "outputId": "f71af065-af2e-4314-8eed-893f83e53a52"
   },
   "outputs": [],
   "source": [
    "!mkdir -p drive\n",
    "!google-drive-ocamlfuse drive"
   ]
  },
  {
   "cell_type": "code",
   "execution_count": null,
   "metadata": {
    "colab": {
     "autoexec": {
      "startup": false,
      "wait_interval": 0
     }
    },
    "colab_type": "code",
    "id": "jQghgS5K6E1E"
   },
   "outputs": [],
   "source": [
    "# http://pytorch.org/\n",
    "from os import path\n",
    "from wheel.pep425tags import get_abbr_impl, get_impl_ver, get_abi_tag\n",
    "platform = '{}{}-{}'.format(get_abbr_impl(), get_impl_ver(), get_abi_tag())\n",
    "\n",
    "accelerator = 'cu80' if path.exists('/opt/bin/nvidia-smi') else 'cpu'\n",
    "\n",
    "!pip install -q http://download.pytorch.org/whl/{accelerator}/torch-0.3.0.post4-{platform}-linux_x86_64.whl torchvision\n",
    "import torch"
   ]
  },
  {
   "cell_type": "code",
   "execution_count": null,
   "metadata": {
    "colab": {
     "autoexec": {
      "startup": false,
      "wait_interval": 0
     }
    },
    "colab_type": "code",
    "id": "0ojDhHna6Ft3"
   },
   "outputs": [],
   "source": [
    "import sys\n",
    "sys.path.append('drive/cyclegan_proj')"
   ]
  },
  {
   "cell_type": "code",
   "execution_count": null,
   "metadata": {
    "colab": {
     "autoexec": {
      "startup": false,
      "wait_interval": 0
     }
    },
    "colab_type": "code",
    "id": "t5xNfElk6Ha2"
   },
   "outputs": [],
   "source": [
    "from loss import compute_combined_loss\n",
    "from loss import consensus_loss\n",
    "import networks as net\n",
    "from data_sampler import data_sampler\n",
    "from utl import *\n",
    "\n",
    "import numpy as np\n",
    "import pandas as pd\n",
    "\n",
    "import torch\n",
    "import torch.nn as nn\n",
    "from torch.autograd import Variable\n",
    "import torch.nn.functional as F\n",
    "\n",
    "import matplotlib.pyplot as plt\n",
    "import datetime as dt\n",
    "from IPython.display import clear_output"
   ]
  },
  {
   "cell_type": "code",
   "execution_count": null,
   "metadata": {
    "colab": {
     "autoexec": {
      "startup": false,
      "wait_interval": 0
     }
    },
    "colab_type": "code",
    "id": "NI7nvSus6Rm_"
   },
   "outputs": [],
   "source": [
    "# argparser, where are you?\n",
    "input_nc = 1\n",
    "output_nc = 1\n",
    "discr_filters = 4\n",
    "max_power = 2\n",
    "n_layers = 1\n",
    "norm_lay = nn.BatchNorm2d\n",
    "start_size = 28\n",
    "gen_filters = 4\n",
    "dropout = None\n",
    "n_blocks = 1\n",
    "batch_size = 1\n",
    "alpha = 5"
   ]
  },
  {
   "cell_type": "code",
   "execution_count": null,
   "metadata": {
    "colab": {
     "autoexec": {
      "startup": false,
      "wait_interval": 0
     }
    },
    "colab_type": "code",
    "id": "fTVSfcbG6TDb"
   },
   "outputs": [],
   "source": [
    "train_pull = pd.read_csv(\"drive/cyclegan_proj/train_pull.csv\", \n",
    "                         header=None).values\n",
    "train_top = pd.read_csv(\"drive/cyclegan_proj/train_top.csv\",\n",
    "                        header=None).values"
   ]
  },
  {
   "cell_type": "code",
   "execution_count": null,
   "metadata": {
    "colab": {
     "autoexec": {
      "startup": false,
      "wait_interval": 0
     }
    },
    "colab_type": "code",
    "id": "1jvB6s8j6T7k"
   },
   "outputs": [],
   "source": [
    "discr_a = net.Discriminator(input_nc=input_nc,\n",
    "                            discr_filters=discr_filters,\n",
    "                            max_power=max_power,\n",
    "                            n_layers=n_layers,\n",
    "                            norm_lay=norm_lay,\n",
    "                            start_size=start_size\n",
    ")\n",
    "\n",
    "discr_b = net.Discriminator(input_nc=input_nc,\n",
    "                            discr_filters=discr_filters,\n",
    "                            max_power=max_power,\n",
    "                            n_layers=n_layers,\n",
    "                            norm_lay=norm_lay,\n",
    "                            start_size=start_size\n",
    ")\n",
    "\n",
    "gener_a = net.ResnetGenerator(\n",
    "    input_nc = input_nc,\n",
    "    output_nc = output_nc,\n",
    "    gen_filters = gen_filters,\n",
    "    norm_lay = norm_lay,\n",
    "    dropout = dropout,\n",
    "    n_blocks = n_blocks\n",
    ")\n",
    "\n",
    "gener_b = net.ResnetGenerator(\n",
    "    input_nc = input_nc,\n",
    "    output_nc = output_nc,\n",
    "    gen_filters = gen_filters,\n",
    "    norm_lay = norm_lay,\n",
    "    dropout = dropout,\n",
    "    n_blocks = n_blocks\n",
    ")\n",
    "\n",
    "if torch.cuda.is_available():\n",
    "    discr_a.cuda()\n",
    "    discr_b.cuda()\n",
    "    gener_a.cuda()\n",
    "    gener_b.cuda()"
   ]
  },
  {
   "cell_type": "code",
   "execution_count": null,
   "metadata": {
    "colab": {
     "autoexec": {
      "startup": false,
      "wait_interval": 0
     },
     "base_uri": "https://localhost:8080/",
     "height": 34,
     "output_extras": [
      {
       "item_id": 1
      }
     ]
    },
    "colab_type": "code",
    "executionInfo": {
     "elapsed": 698,
     "status": "ok",
     "timestamp": 1520602796079,
     "user": {
      "displayName": "Ильдар Камальдинов",
      "photoUrl": "//lh4.googleusercontent.com/-V561pRqasQg/AAAAAAAAAAI/AAAAAAAAAY8/SBtycgQVgsg/s50-c-k-no/photo.jpg",
      "userId": "112336361359478169776"
     },
     "user_tz": -180
    },
    "id": "EfL4gx2G6U5K",
    "outputId": "0ad6c0b4-8d9d-4ad7-a5be-f4d8bc96ea57"
   },
   "outputs": [],
   "source": [
    "gener_a.apply(weights_init)\n",
    "gener_b.apply(weights_init)\n",
    "discr_a.apply(weights_init)\n",
    "discr_b.apply(weights_init)\n",
    "print(\"weights initialized\")"
   ]
  },
  {
   "cell_type": "code",
   "execution_count": null,
   "metadata": {
    "colab": {
     "autoexec": {
      "startup": false,
      "wait_interval": 0
     }
    },
    "colab_type": "code",
    "id": "HTue9PZc6XqZ"
   },
   "outputs": [],
   "source": [
    "opt_gener_a = torch.optim.RMSprop(gener_a.parameters(), lr=0.005)\n",
    "opt_gener_b = torch.optim.RMSprop(gener_b.parameters(), lr=0.005)\n",
    "opt_discr_a = torch.optim.RMSprop(discr_a.parameters(), lr=0.005)\n",
    "opt_discr_b = torch.optim.RMSprop(discr_b.parameters(), lr=0.005)\n",
    "# from itertools import chain\n",
    "# a_opt = torch.optim.SGD(chain(gener_a.parameters(), discr_a.parameters()), lr=0.001)\n",
    "# b_opt = torch.optim.SGD(chain(gener_b.parameters(), discr_b.parameters()), lr=0.001)\n",
    "#gener_opt = torch.optim.SGD(chain(gener_a.parameters(), gener_b.parameters()), lr=0.001)\n",
    "#discr_opt = torch.optim.SGD(chain(discr_a.parameters(), discr_b.parameters()), lr=0.001)"
   ]
  },
  {
   "cell_type": "code",
   "execution_count": null,
   "metadata": {
    "colab": {
     "autoexec": {
      "startup": false,
      "wait_interval": 0
     }
    },
    "colab_type": "code",
    "id": "-Nu1BkVW7wd5"
   },
   "outputs": [],
   "source": [
    "ga_loss_log = []\n",
    "gb_loss_log = []\n",
    "da_loss_log = []\n",
    "db_loss_log = []"
   ]
  },
  {
   "cell_type": "code",
   "execution_count": null,
   "metadata": {
    "colab": {
     "autoexec": {
      "startup": false,
      "wait_interval": 0
     }
    },
    "colab_type": "code",
    "id": "nkbqYWJg4Cnt"
   },
   "outputs": [],
   "source": [
    "clambda = 1"
   ]
  },
  {
   "cell_type": "code",
   "execution_count": null,
   "metadata": {
    "colab": {
     "autoexec": {
      "startup": false,
      "wait_interval": 0
     },
     "base_uri": "https://localhost:8080/",
     "height": 935,
     "output_extras": [
      {
       "item_id": 1
      },
      {
       "item_id": 2
      },
      {
       "item_id": 3
      }
     ]
    },
    "colab_type": "code",
    "executionInfo": {
     "elapsed": 1445,
     "status": "ok",
     "timestamp": 1520604225270,
     "user": {
      "displayName": "Ильдар Камальдинов",
      "photoUrl": "//lh4.googleusercontent.com/-V561pRqasQg/AAAAAAAAAAI/AAAAAAAAAY8/SBtycgQVgsg/s50-c-k-no/photo.jpg",
      "userId": "112336361359478169776"
     },
     "user_tz": -180
    },
    "id": "uVY9_c2A92Gq",
    "outputId": "c19c49a7-b668-4c81-cd1e-b8ef4f76e541"
   },
   "outputs": [],
   "source": [
    "for i in range(10000):\n",
    "    batch_a, batch_b = data_sampler(batch_size, train_pull, train_top, \n",
    "                                    use_gpu=True, requires_grad=True)\n",
    "    batch_a = batch_a.view(-1, 1, 28, 28).float()\n",
    "    batch_b = batch_b.view(-1, 1, 28, 28).float()\n",
    "    \n",
    "    train_stage(gener_a, gener_b, discr_a, discr_b)\n",
    "    \n",
    "    losses = compute_combined_loss(\n",
    "        gener_a, gener_b,\n",
    "        discr_a, discr_b,\n",
    "        batch_a, batch_b,\n",
    "        alpha,\n",
    "        discr_loss = 'mse',\n",
    "        use_gpu=True\n",
    "    )\n",
    "\n",
    "    discr_loss, gener_loss = losses[0:2]\n",
    "    da_loss, db_loss = losses[2:4]\n",
    "    ga_loss, gb_loss = losses[4:6]\n",
    "    ga_fool, gb_fool = losses[6:8]\n",
    "\n",
    "    \n",
    "    discr_a_mega_loss = da_loss - clambda * conserve_loss(da_loss, discr_a)\n",
    "    discr_b_mega_loss = db_loss - clambda * conserve_loss(db_loss, discr_b)\n",
    "    gener_a_mega_loss = ga_loss - clambda * conserve_loss(ga_loss, gener_a)\n",
    "    gener_b_mega_loss = gb_loss - clambda * conserve_loss(gb_loss, gener_b)\n",
    "    \n",
    "    opt_gener_a.zero_grad()\n",
    "    opt_gener_b.zero_grad()\n",
    "    opt_discr_a.zero_grad()\n",
    "    opt_discr_b.zero_grad()\n",
    "\n",
    "    discr_a_mega_loss.backward(retain_graph=True)\n",
    "    discr_b_mega_loss.backward(retain_graph=True)\n",
    "    gener_a_mega_loss.backward(retain_graph=True)\n",
    "    gener_b_mega_loss.backward()\n",
    "\n",
    "    opt_gener_a.step()\n",
    "    opt_gener_b.step()\n",
    "    opt_discr_a.step()\n",
    "    opt_discr_b.step()\n",
    "    \n",
    "    ga_loss_log.append(ga_fool.data[0])\n",
    "    gb_loss_log.append(gb_fool.data[0])\n",
    "    da_loss_log.append(da_loss.data[0])\n",
    "    db_loss_log.append(db_loss.data[0])\n",
    "    \n",
    "    \n",
    "    if (i+1) % 100 == 0:\n",
    "        print(\"step {}\".format(i+1))\n",
    "    \n",
    "    if (i+1) % 500 == 0:\n",
    "        clear_output()\n",
    "        visualize_loss(da_loss_log, db_loss_log, ga_loss_log, gb_loss_log,\n",
    "                       exp_window=None)\n",
    "        \n",
    "        ind = np.random.randint(0, batch_size, 1, dtype=int)[0]\n",
    "        sample_a, sample_b = data_sampler(1, train_pull, train_top, use_gpu=True)\n",
    "        plot_geners(sample_a, sample_b, gener_a, gener_b)"
   ]
  },
  {
   "cell_type": "code",
   "execution_count": null,
   "metadata": {
    "colab": {
     "autoexec": {
      "startup": false,
      "wait_interval": 0
     }
    },
    "colab_type": "code",
    "id": "niMbPF2_9YOB"
   },
   "outputs": [],
   "source": []
  }
 ],
 "metadata": {
  "accelerator": "GPU",
  "colab": {
   "collapsed_sections": [],
   "default_view": {},
   "name": "train_colab_cyclegan.ipynb",
   "provenance": [],
   "version": "0.3.2",
   "views": {}
  },
  "kernelspec": {
   "display_name": "Python 3",
   "language": "python",
   "name": "python3"
  },
  "language_info": {
   "codemirror_mode": {
    "name": "ipython",
    "version": 3
   },
   "file_extension": ".py",
   "mimetype": "text/x-python",
   "name": "python",
   "nbconvert_exporter": "python",
   "pygments_lexer": "ipython3",
   "version": "3.6.4"
  }
 },
 "nbformat": 4,
 "nbformat_minor": 1
}
