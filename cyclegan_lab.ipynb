{
 "cells": [
  {
   "cell_type": "code",
   "execution_count": 1,
   "metadata": {},
   "outputs": [],
   "source": [
    "import networks as net\n",
    "from data_sampler import data_sampler\n",
    "\n",
    "import functools\n",
    "import numpy as np\n",
    "import pandas as pd\n",
    "\n",
    "import torch\n",
    "import torch.nn as nn\n",
    "from torch.autograd import Variable"
   ]
  },
  {
   "cell_type": "code",
   "execution_count": 2,
   "metadata": {},
   "outputs": [],
   "source": [
    "train_pull = pd.read_csv(\"../../data/fashion_mnisit/train_pull.csv\", header=None).values\n",
    "train_top = pd.read_csv(\"../../data/fashion_mnisit/train_top.csv\", header=None).values\n",
    "# test_pull = pd.read_csv(\"../../data/fashion_mnisit/test_pull.csv\", header=None).values\n",
    "# test_top = pd.read_csv(\"../../data/fashion_mnisit/test_top.csv\", header=None).values"
   ]
  },
  {
   "cell_type": "code",
   "execution_count": 3,
   "metadata": {},
   "outputs": [],
   "source": [
    "input_nc = 1\n",
    "discr_filters = 4\n",
    "max_power = 2\n",
    "n_layers = 4\n",
    "norm_lay = nn.BatchNorm2d"
   ]
  },
  {
   "cell_type": "code",
   "execution_count": 4,
   "metadata": {},
   "outputs": [],
   "source": [
    "discr = net.Discrimanator(input_nc=input_nc,\n",
    "                  discr_filters=discr_filters,\n",
    "                  max_power=max_power,\n",
    "                  n_layers=n_layers,\n",
    "                  norm_lay=nn.BatchNorm2d)"
   ]
  },
  {
   "cell_type": "code",
   "execution_count": 5,
   "metadata": {},
   "outputs": [],
   "source": [
    "ind = np.random.randint(0, 1+1, 1, dtype=int)[0]\n",
    "x_batch = data_sampler(1, train_pull, train_top)[ind]\n",
    "y_batch = torch.from_numpy(np.array(ind))\n",
    "data = x_batch.view(-1, 1, 28, 28).float()\n",
    "target = Variable(y_batch)"
   ]
  },
  {
   "cell_type": "code",
   "execution_count": 6,
   "metadata": {},
   "outputs": [],
   "source": [
    "output = discr(data)\n",
    "# it's working!"
   ]
  },
  {
   "cell_type": "markdown",
   "metadata": {},
   "source": [
    "### Generator"
   ]
  },
  {
   "cell_type": "code",
   "execution_count": 7,
   "metadata": {},
   "outputs": [],
   "source": [
    "input_nc = 1\n",
    "output_nc = 1\n",
    "gen_filters = 64\n",
    "n_blocks = 4\n",
    "norm_lay = nn.BatchNorm2d\n",
    "dropout = 0.8\n",
    "n_blocks = 2"
   ]
  },
  {
   "cell_type": "code",
   "execution_count": 8,
   "metadata": {},
   "outputs": [],
   "source": [
    "gener = net.ResnetGenerator(\n",
    "    input_nc = input_nc,\n",
    "    output_nc = output_nc,\n",
    "    gen_filters = gen_filters,\n",
    "    norm_lay = norm_lay,\n",
    "    dropout = dropout,\n",
    "    n_blocks = n_blocks\n",
    ")"
   ]
  },
  {
   "cell_type": "code",
   "execution_count": 9,
   "metadata": {},
   "outputs": [],
   "source": [
    "ind = np.random.randint(0, 1+1, 1, dtype=int)[0]\n",
    "x_batch = data_sampler(10, train_pull, train_top)[ind]\n",
    "y_batch = torch.from_numpy(np.array(ind))\n",
    "data = x_batch.view(-1, 1, 28, 28).float()"
   ]
  },
  {
   "cell_type": "code",
   "execution_count": 10,
   "metadata": {},
   "outputs": [
    {
     "data": {
      "text/plain": [
       "torch.Size([10, 1, 28, 28])"
      ]
     },
     "execution_count": 10,
     "metadata": {},
     "output_type": "execute_result"
    }
   ],
   "source": [
    "gener.train()\n",
    "gener(data).size()\n",
    "# it's working!"
   ]
  },
  {
   "cell_type": "code",
   "execution_count": null,
   "metadata": {},
   "outputs": [],
   "source": []
  }
 ],
 "metadata": {
  "kernelspec": {
   "display_name": "Python 3",
   "language": "python",
   "name": "python3"
  },
  "language_info": {
   "codemirror_mode": {
    "name": "ipython",
    "version": 3
   },
   "file_extension": ".py",
   "mimetype": "text/x-python",
   "name": "python",
   "nbconvert_exporter": "python",
   "pygments_lexer": "ipython3",
   "version": "3.6.4"
  }
 },
 "nbformat": 4,
 "nbformat_minor": 2
}
